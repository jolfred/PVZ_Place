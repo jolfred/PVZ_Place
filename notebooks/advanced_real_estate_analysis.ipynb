{
 "cells": [
  {
   "cell_type": "markdown",
   "id": "bf1d2695",
   "metadata": {},
   "source": [
    "# Расширенный анализ инвестиционных объектов недвижимости\n",
    "\n",
    "В данном анализе мы проведем:\n",
    "1. Предварительный анализ данных и их очистку\n",
    "2. Углубленный анализ ценовых трендов\n",
    "3. Сегментацию рынка с использованием продвинутых методов кластеризации\n",
    "4. Прогнозирование потенциальной доходности\n",
    "5. Оценку рисков инвестирования\n",
    "6. Формирование инвестиционных рекомендаций"
   ]
  },
  {
   "cell_type": "code",
   "execution_count": 9,
   "id": "1a3728ff",
   "metadata": {},
   "outputs": [],
   "source": [
    "# Импортируем необходимые библиотеки\n",
    "import pandas as pd\n",
    "import numpy as np\n",
    "import matplotlib.pyplot as plt\n",
    "import seaborn as sns\n",
    "from sklearn.cluster import KMeans, DBSCAN\n",
    "from sklearn.preprocessing import StandardScaler, RobustScaler\n",
    "from sklearn.metrics import silhouette_score\n",
    "from sklearn.ensemble import IsolationForest\n",
    "from scipy import stats\n",
    "import plotly.express as px\n",
    "import plotly.graph_objects as go\n",
    "from plotly.subplots import make_subplots\n",
    "\n",
    "# Настраиваем отображение\n",
    "%matplotlib inline\n",
    "plt.style.use('default')\n",
    "pd.set_option('display.max_columns', None)\n",
    "pd.set_option('display.float_format', lambda x: '%.2f' % x)"
   ]
  },
  {
   "cell_type": "code",
   "execution_count": 10,
   "id": "647a53b8",
   "metadata": {},
   "outputs": [
    {
     "name": "stdout",
     "output_type": "stream",
     "text": [
      "\n",
      "Анализ датасета: Аренда\n",
      "--------------------------------------------------\n",
      "Количество записей: 807\n",
      "\n",
      "Описательная статистика числовых признаков:\n"
     ]
    },
    {
     "data": {
      "text/html": [
       "<div>\n",
       "<style scoped>\n",
       "    .dataframe tbody tr th:only-of-type {\n",
       "        vertical-align: middle;\n",
       "    }\n",
       "\n",
       "    .dataframe tbody tr th {\n",
       "        vertical-align: top;\n",
       "    }\n",
       "\n",
       "    .dataframe thead th {\n",
       "        text-align: right;\n",
       "    }\n",
       "</style>\n",
       "<table border=\"1\" class=\"dataframe\">\n",
       "  <thead>\n",
       "    <tr style=\"text-align: right;\">\n",
       "      <th></th>\n",
       "      <th>price</th>\n",
       "      <th>Общая площадь</th>\n",
       "      <th>Этаж</th>\n",
       "      <th>lat</th>\n",
       "      <th>lon</th>\n",
       "      <th>Количество парковочных мест</th>\n",
       "      <th>total_price</th>\n",
       "      <th>price_per_meter</th>\n",
       "    </tr>\n",
       "  </thead>\n",
       "  <tbody>\n",
       "    <tr>\n",
       "      <th>count</th>\n",
       "      <td>807.00</td>\n",
       "      <td>807.00</td>\n",
       "      <td>804.00</td>\n",
       "      <td>807.00</td>\n",
       "      <td>807.00</td>\n",
       "      <td>231.00</td>\n",
       "      <td>807.00</td>\n",
       "      <td>807.00</td>\n",
       "    </tr>\n",
       "    <tr>\n",
       "      <th>mean</th>\n",
       "      <td>65355.71</td>\n",
       "      <td>61.06</td>\n",
       "      <td>1.00</td>\n",
       "      <td>55.67</td>\n",
       "      <td>49.97</td>\n",
       "      <td>34.94</td>\n",
       "      <td>73935.81</td>\n",
       "      <td>1296.28</td>\n",
       "    </tr>\n",
       "    <tr>\n",
       "      <th>std</th>\n",
       "      <td>69601.14</td>\n",
       "      <td>39.61</td>\n",
       "      <td>0.00</td>\n",
       "      <td>0.35</td>\n",
       "      <td>1.44</td>\n",
       "      <td>143.26</td>\n",
       "      <td>65310.95</td>\n",
       "      <td>829.75</td>\n",
       "    </tr>\n",
       "    <tr>\n",
       "      <th>min</th>\n",
       "      <td>100.00</td>\n",
       "      <td>3.00</td>\n",
       "      <td>1.00</td>\n",
       "      <td>54.40</td>\n",
       "      <td>47.56</td>\n",
       "      <td>1.00</td>\n",
       "      <td>2500.00</td>\n",
       "      <td>100.00</td>\n",
       "    </tr>\n",
       "    <tr>\n",
       "      <th>25%</th>\n",
       "      <td>15000.00</td>\n",
       "      <td>25.38</td>\n",
       "      <td>1.00</td>\n",
       "      <td>55.73</td>\n",
       "      <td>49.10</td>\n",
       "      <td>5.00</td>\n",
       "      <td>30000.00</td>\n",
       "      <td>700.00</td>\n",
       "    </tr>\n",
       "    <tr>\n",
       "      <th>50%</th>\n",
       "      <td>45000.00</td>\n",
       "      <td>55.00</td>\n",
       "      <td>1.00</td>\n",
       "      <td>55.78</td>\n",
       "      <td>49.18</td>\n",
       "      <td>10.00</td>\n",
       "      <td>54230.00</td>\n",
       "      <td>1102.94</td>\n",
       "    </tr>\n",
       "    <tr>\n",
       "      <th>75%</th>\n",
       "      <td>93860.00</td>\n",
       "      <td>91.03</td>\n",
       "      <td>1.00</td>\n",
       "      <td>55.83</td>\n",
       "      <td>51.31</td>\n",
       "      <td>30.00</td>\n",
       "      <td>99250.00</td>\n",
       "      <td>1700.00</td>\n",
       "    </tr>\n",
       "    <tr>\n",
       "      <th>max</th>\n",
       "      <td>479000.00</td>\n",
       "      <td>150.00</td>\n",
       "      <td>1.00</td>\n",
       "      <td>56.53</td>\n",
       "      <td>53.24</td>\n",
       "      <td>2000.00</td>\n",
       "      <td>479000.00</td>\n",
       "      <td>5000.00</td>\n",
       "    </tr>\n",
       "  </tbody>\n",
       "</table>\n",
       "</div>"
      ],
      "text/plain": [
       "          price  Общая площадь   Этаж    lat    lon  \\\n",
       "count    807.00         807.00 804.00 807.00 807.00   \n",
       "mean   65355.71          61.06   1.00  55.67  49.97   \n",
       "std    69601.14          39.61   0.00   0.35   1.44   \n",
       "min      100.00           3.00   1.00  54.40  47.56   \n",
       "25%    15000.00          25.38   1.00  55.73  49.10   \n",
       "50%    45000.00          55.00   1.00  55.78  49.18   \n",
       "75%    93860.00          91.03   1.00  55.83  51.31   \n",
       "max   479000.00         150.00   1.00  56.53  53.24   \n",
       "\n",
       "       Количество парковочных мест  total_price  price_per_meter  \n",
       "count                       231.00       807.00           807.00  \n",
       "mean                         34.94     73935.81          1296.28  \n",
       "std                         143.26     65310.95           829.75  \n",
       "min                           1.00      2500.00           100.00  \n",
       "25%                           5.00     30000.00           700.00  \n",
       "50%                          10.00     54230.00          1102.94  \n",
       "75%                          30.00     99250.00          1700.00  \n",
       "max                        2000.00    479000.00          5000.00  "
      ]
     },
     "metadata": {},
     "output_type": "display_data"
    },
    {
     "name": "stdout",
     "output_type": "stream",
     "text": [
      "\n",
      "Пропущенные значения:\n"
     ]
    },
    {
     "data": {
      "text/plain": [
       "title                            0\n",
       "price                            0\n",
       "address                          0\n",
       "item_url                         0\n",
       "date                             0\n",
       "Вход                            42\n",
       "Отдельный вход                 312\n",
       "Общая площадь                    0\n",
       "Этаж                             3\n",
       "Высота потолков                187\n",
       "Отделка                         15\n",
       "Мощность электросети           477\n",
       "Отопление                      616\n",
       "Тип аренды                       0\n",
       "Минимальный срок аренды        328\n",
       "Тип здания                       0\n",
       "Удалённость от дороги          621\n",
       "Парковка                         7\n",
       "lat                              0\n",
       "lon                              0\n",
       "Арендные каникулы              274\n",
       "Количество парковочных мест    576\n",
       "Платежи включены               644\n",
       "Аренда части                   709\n",
       "Планировка                     780\n",
       "Класс здания                   786\n",
       "city                             0\n",
       "street                           2\n",
       "total_price                      0\n",
       "price_per_meter                  0\n",
       "is_per_meter_price               0\n",
       "dtype: int64"
      ]
     },
     "metadata": {},
     "output_type": "display_data"
    },
    {
     "name": "stdout",
     "output_type": "stream",
     "text": [
      "\n",
      "Количество выбросов в ценах: 30\n",
      "\n",
      "Анализ датасета: Продажа\n",
      "--------------------------------------------------\n",
      "Количество записей: 633\n",
      "\n",
      "Описательная статистика числовых признаков:\n"
     ]
    },
    {
     "data": {
      "text/html": [
       "<div>\n",
       "<style scoped>\n",
       "    .dataframe tbody tr th:only-of-type {\n",
       "        vertical-align: middle;\n",
       "    }\n",
       "\n",
       "    .dataframe tbody tr th {\n",
       "        vertical-align: top;\n",
       "    }\n",
       "\n",
       "    .dataframe thead th {\n",
       "        text-align: right;\n",
       "    }\n",
       "</style>\n",
       "<table border=\"1\" class=\"dataframe\">\n",
       "  <thead>\n",
       "    <tr style=\"text-align: right;\">\n",
       "      <th></th>\n",
       "      <th>price</th>\n",
       "      <th>Общая площадь</th>\n",
       "      <th>Этаж</th>\n",
       "      <th>lat</th>\n",
       "      <th>lon</th>\n",
       "      <th>Количество парковочных мест</th>\n",
       "      <th>total_price</th>\n",
       "      <th>price_per_meter</th>\n",
       "    </tr>\n",
       "  </thead>\n",
       "  <tbody>\n",
       "    <tr>\n",
       "      <th>count</th>\n",
       "      <td>633.00</td>\n",
       "      <td>633.00</td>\n",
       "      <td>588.00</td>\n",
       "      <td>633.00</td>\n",
       "      <td>633.00</td>\n",
       "      <td>181.00</td>\n",
       "      <td>633.00</td>\n",
       "      <td>633.00</td>\n",
       "    </tr>\n",
       "    <tr>\n",
       "      <th>mean</th>\n",
       "      <td>62350357.70</td>\n",
       "      <td>816.41</td>\n",
       "      <td>1.00</td>\n",
       "      <td>55.61</td>\n",
       "      <td>50.32</td>\n",
       "      <td>27.73</td>\n",
       "      <td>62350357.70</td>\n",
       "      <td>120251.33</td>\n",
       "    </tr>\n",
       "    <tr>\n",
       "      <th>std</th>\n",
       "      <td>167484753.08</td>\n",
       "      <td>2031.09</td>\n",
       "      <td>0.00</td>\n",
       "      <td>0.40</td>\n",
       "      <td>1.57</td>\n",
       "      <td>46.90</td>\n",
       "      <td>167484753.08</td>\n",
       "      <td>77290.69</td>\n",
       "    </tr>\n",
       "    <tr>\n",
       "      <th>min</th>\n",
       "      <td>199000.00</td>\n",
       "      <td>7.60</td>\n",
       "      <td>1.00</td>\n",
       "      <td>54.39</td>\n",
       "      <td>48.29</td>\n",
       "      <td>1.00</td>\n",
       "      <td>199000.00</td>\n",
       "      <td>10000.00</td>\n",
       "    </tr>\n",
       "    <tr>\n",
       "      <th>25%</th>\n",
       "      <td>7600000.00</td>\n",
       "      <td>73.00</td>\n",
       "      <td>1.00</td>\n",
       "      <td>55.64</td>\n",
       "      <td>49.10</td>\n",
       "      <td>7.00</td>\n",
       "      <td>7600000.00</td>\n",
       "      <td>57142.86</td>\n",
       "    </tr>\n",
       "    <tr>\n",
       "      <th>50%</th>\n",
       "      <td>18000000.00</td>\n",
       "      <td>151.00</td>\n",
       "      <td>1.00</td>\n",
       "      <td>55.75</td>\n",
       "      <td>49.23</td>\n",
       "      <td>15.00</td>\n",
       "      <td>18000000.00</td>\n",
       "      <td>106007.07</td>\n",
       "    </tr>\n",
       "    <tr>\n",
       "      <th>75%</th>\n",
       "      <td>55000000.00</td>\n",
       "      <td>643.10</td>\n",
       "      <td>1.00</td>\n",
       "      <td>55.83</td>\n",
       "      <td>52.28</td>\n",
       "      <td>30.00</td>\n",
       "      <td>55000000.00</td>\n",
       "      <td>174736.84</td>\n",
       "    </tr>\n",
       "    <tr>\n",
       "      <th>max</th>\n",
       "      <td>2350000000.00</td>\n",
       "      <td>24551.00</td>\n",
       "      <td>1.00</td>\n",
       "      <td>56.53</td>\n",
       "      <td>54.05</td>\n",
       "      <td>450.00</td>\n",
       "      <td>2350000000.00</td>\n",
       "      <td>300000.00</td>\n",
       "    </tr>\n",
       "  </tbody>\n",
       "</table>\n",
       "</div>"
      ],
      "text/plain": [
       "              price  Общая площадь   Этаж    lat    lon  \\\n",
       "count        633.00         633.00 588.00 633.00 633.00   \n",
       "mean    62350357.70         816.41   1.00  55.61  50.32   \n",
       "std    167484753.08        2031.09   0.00   0.40   1.57   \n",
       "min       199000.00           7.60   1.00  54.39  48.29   \n",
       "25%      7600000.00          73.00   1.00  55.64  49.10   \n",
       "50%     18000000.00         151.00   1.00  55.75  49.23   \n",
       "75%     55000000.00         643.10   1.00  55.83  52.28   \n",
       "max   2350000000.00       24551.00   1.00  56.53  54.05   \n",
       "\n",
       "       Количество парковочных мест   total_price  price_per_meter  \n",
       "count                       181.00        633.00           633.00  \n",
       "mean                         27.73   62350357.70        120251.33  \n",
       "std                          46.90  167484753.08         77290.69  \n",
       "min                           1.00     199000.00         10000.00  \n",
       "25%                           7.00    7600000.00         57142.86  \n",
       "50%                          15.00   18000000.00        106007.07  \n",
       "75%                          30.00   55000000.00        174736.84  \n",
       "max                         450.00 2350000000.00        300000.00  "
      ]
     },
     "metadata": {},
     "output_type": "display_data"
    },
    {
     "name": "stdout",
     "output_type": "stream",
     "text": [
      "\n",
      "Пропущенные значения:\n"
     ]
    },
    {
     "data": {
      "text/plain": [
       "title                            0\n",
       "price                            0\n",
       "address                          0\n",
       "item_url                         0\n",
       "date                             0\n",
       "Вход                            37\n",
       "Общая площадь                    0\n",
       "Этаж                            45\n",
       "Отделка                          9\n",
       "Тип сделки                       0\n",
       "Арендаторы                     439\n",
       "Тип здания                       0\n",
       "Парковка                         9\n",
       "lat                              0\n",
       "lon                              0\n",
       "Высота потолков                195\n",
       "Мощность электросети           277\n",
       "Планировка                     606\n",
       "Готовность                     125\n",
       "Класс здания                   609\n",
       "Отдельный вход                 244\n",
       "Отопление                      224\n",
       "Удалённость от дороги          319\n",
       "Количество парковочных мест    452\n",
       "city                             0\n",
       "street                           3\n",
       "total_price                      0\n",
       "price_per_meter                  0\n",
       "is_per_meter_price               0\n",
       "dtype: int64"
      ]
     },
     "metadata": {},
     "output_type": "display_data"
    },
    {
     "name": "stdout",
     "output_type": "stream",
     "text": [
      "\n",
      "Количество выбросов в ценах: 0\n"
     ]
    }
   ],
   "source": [
    "# Загружаем данные\n",
    "rent_data = pd.read_csv('../scrapers/cleaned_rent_data.csv')\n",
    "sale_data = pd.read_csv('../scrapers/cleaned_sale_data.csv')\n",
    "\n",
    "def analyze_dataset(df, name):\n",
    "    print(f'\\nАнализ датасета: {name}')\n",
    "    print('-' * 50)\n",
    "    print(f'Количество записей: {len(df)}')\n",
    "    print('\\nОписательная статистика числовых признаков:')\n",
    "    display(df.describe())\n",
    "    print('\\nПропущенные значения:')\n",
    "    display(df.isnull().sum())\n",
    "    \n",
    "    # Определяем выбросы в ценах\n",
    "    Q1 = df['price_per_meter'].quantile(0.25)\n",
    "    Q3 = df['price_per_meter'].quantile(0.75)\n",
    "    IQR = Q3 - Q1\n",
    "    outliers = df[(df['price_per_meter'] < (Q1 - 1.5 * IQR)) | \n",
    "                  (df['price_per_meter'] > (Q3 + 1.5 * IQR))]\n",
    "    print(f'\\nКоличество выбросов в ценах: {len(outliers)}')\n",
    "    \n",
    "    return outliers\n",
    "\n",
    "# Анализируем оба датасета\n",
    "rent_outliers = analyze_dataset(rent_data, 'Аренда')\n",
    "sale_outliers = analyze_dataset(sale_data, 'Продажа')"
   ]
  },
  {
   "cell_type": "code",
   "execution_count": 11,
   "id": "a9a28e95",
   "metadata": {},
   "outputs": [
    {
     "data": {
      "application/vnd.plotly.v1+json": {
       "config": {
        "plotlyServerURL": "https://plot.ly"
       },
       "data": [
        {
         "histnorm": "probability",
         "name": "Аренда",
         "nbinsx": 50,
         "type": "histogram",
         "x": {
          "bdata": "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",
          "dtype": "f8"
         },
         "xaxis": "x",
         "yaxis": "y"
        },
        {
         "histnorm": "probability",
         "name": "Продажа",
         "nbinsx": 50,
         "type": "histogram",
         "x": {
          "bdata": "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",
          "dtype": "f8"
         },
         "xaxis": "x2",
         "yaxis": "y2"
        },
        {
         "name": "Аренда",
         "type": "box",
         "x": [
          "Казань",
          "Набережные Челны",
          "Нижнекамск",
          "Большие Бутырки",
          "Набережные Челны",
          "Елабуга",
          "Казань",
          "Казань",
          "Казань",
          "Казань",
          "Набережные Челны",
          "Казань",
          "Казань",
          "Набережные Челны",
          "Казань",
          "Казань",
          "Казань",
          "Казань",
          "Казань",
          "Казань",
          "Казань",
          "Казань",
          "Казань",
          "Менделеевск",
          "Казань",
          "Казань",
          "Казань",
          "Казань",
          "Бугульма",
          "Заинск",
          "Казань",
          "Азнакаево",
          "Казань",
          "Казань",
          "Казань",
          "Казань",
          "Казань",
          "Зеленодольск",
          "Казань",
          "Казань",
          "Бугульма",
          "Казань",
          "Казань",
          "Высокая Гора",
          "Казань",
          "Казань",
          "Казань",
          "Казань",
          "Казань",
          "Зеленодольск",
          "Казань",
          "Казань",
          "Казань",
          "Казань",
          "Казань",
          "Казань",
          "Казань",
          "Альметьевск",
          "Казань",
          "Казань",
          "Казань",
          "Набережные Челны",
          "Казань",
          "Бугульма",
          "Новониколаевский",
          "Нижнекамск",
          "Казань",
          "Кощаково",
          "Казань",
          "Нижнекамск",
          "Казань",
          "Казань",
          "Казань",
          "Казань",
          "Казань",
          "Казань",
          "Казань",
          "Альметьевск",
          "Азнакаево",
          "Нижнекамск",
          "Казань",
          "Казань",
          "Казань",
          "Казань",
          "Казань",
          "Набережные Челны",
          "Казань",
          "Куюки",
          "Высокая Гора",
          "Казань",
          "Казань",
          "Казань",
          "Казань",
          "Коноваловка",
          "Азнакаево",
          "Казань",
          "Зеленодольск",
          "Зеленодольск",
          "Казань",
          "Казань",
          "Казань",
          "Казань",
          "Казань",
          "Казань",
          "Казань",
          "Казань",
          "Набережные Челны",
          "Набережные Челны",
          "Казань",
          "Казань",
          "Казань",
          "Казань",
          "Казань",
          "Казань",
          "Столбище",
          "Казань",
          "Казань",
          "Набережные Челны",
          "Елабуга",
          "Лаишево",
          "Набережные Челны",
          "Казань",
          "Казань",
          "Казань",
          "Казань",
          "Казань",
          "Азнакаево",
          "Казань",
          "Казань",
          "Казань",
          "Казань",
          "Казань",
          "Казань",
          "Казань",
          "Набережные Челны",
          "Казань",
          "Казань",
          "Садовый",
          "Казань",
          "Казань",
          "Казань",
          "Казань",
          "Казань",
          "Казань",
          "Казань",
          "Набережные Челны",
          "Альметьевск",
          "Набережные Челны",
          "Казань",
          "Лениногорск",
          "Казань",
          "Казань",
          "Казань",
          "Казань",
          "Казань",
          "Набережные Челны",
          "Казань",
          "Казань",
          "Казань",
          "Казань",
          "Казань",
          "Арск",
          "Казань",
          "Казань",
          "Казань",
          "Казань",
          "Казань",
          "Казань",
          "Лениногорск",
          "Казань",
          "Казань",
          "Казань",
          "Казань",
          "Нижнекамск",
          "Казань",
          "Казань",
          "Казань",
          "Казань",
          "Лаишево",
          "Казань",
          "Казань",
          "Казань",
          "Сокуры",
          "Казань",
          "Казань",
          "Азьмушкино",
          "Елабуга",
          "Казань",
          "Набережные Челны",
          "Бугульма",
          "Набережные Челны",
          "Малый Бакрче",
          "Казань",
          "Песчаные Ковали",
          "Альметьевск",
          "Казань",
          "Казань",
          "Казань",
          "Казань",
          "Казань",
          "Казань",
          "Казань",
          "Казань",
          "Казань",
          "Елабуга",
          "Казань",
          "Набережные Челны",
          "Нижнекамск",
          "Васильево",
          "Казань",
          "Куюки",
          "Казань",
          "Казань",
          "Казань",
          "Казань",
          "Казань",
          "Казань",
          "Казань",
          "Азнакаево",
          "Казань",
          "Усады",
          "Набережные Челны",
          "Зеленодольск",
          "Казань",
          "Казань",
          "Казань",
          "Чистополь",
          "Казань",
          "Казань",
          "Казань",
          "Казань",
          "Нижнекамск",
          "Чистополь",
          "Казань",
          "Казань",
          "Чистополь",
          "Казань",
          "Зеленодольск",
          "Бугульма",
          "Нижнекамск",
          "Казань",
          "Казань",
          "Казань",
          "Заинск",
          "Казань",
          "Набережные Челны",
          "Казань",
          "Казань",
          "Казань",
          "Казань",
          "Казань",
          "Казань",
          "Казань",
          "Большая Атня",
          "Зеленодольск",
          "Осиново",
          "Казань",
          "Казань",
          "Казань",
          "Казань",
          "Казань",
          "Большая Атня",
          "Зеленодольск",
          "Осиново",
          "Казань",
          "Казань",
          "Казань",
          "Казань",
          "Казань",
          "Альметьевск",
          "Казань",
          "Зеленодольск",
          "Казань",
          "Казань",
          "Набережные Челны",
          "Казань",
          "Набережные Челны",
          "Малая Шильна",
          "Казань",
          "Казань",
          "Нижнекамск",
          "Казань",
          "Казань",
          "Нурлат",
          "Казань",
          "Тюлячи",
          "Набережные Челны",
          "Казань",
          "Казань",
          "Казань",
          "Казань",
          "Казань",
          "Казань",
          "Казань",
          "Базарные Матаки",
          "Казань",
          "Казань",
          "Казань",
          "Казань",
          "Нурлат",
          "Казань",
          "Набережные Челны",
          "Казань",
          "Казань",
          "Казань",
          "Арск",
          "Казань",
          "Казань",
          "Казань",
          "Казань",
          "Казань",
          "Казань",
          "Казань",
          "Альметьевск",
          "Казань",
          "Казань",
          "Казань",
          "Казань",
          "Казань",
          "Казань",
          "Азнакаево",
          "Казань",
          "Азнакаево",
          "Казань",
          "Казань",
          "Казань",
          "Нижнекамск",
          "Азнакаево",
          "Казань",
          "Казань",
          "Альметьевск",
          "Чистополь",
          "Казань",
          "Лениногорск",
          "Казань",
          "Казань",
          "Казань",
          "Казань",
          "Казань",
          "Набережные Челны",
          "Казань",
          "Казань",
          "Сокуры",
          "Чистополь",
          "Царёво",
          "Чистополь",
          "Гидромеханизатор",
          "Казань",
          "Песчаные Ковали",
          "Набережные Челны",
          "Казань",
          "Казань",
          "Казань",
          "Казань",
          "Казань",
          "Казань",
          "Казань",
          "Казань",
          "Набережные Челны",
          "Казань",
          "Набережные Челны",
          "Казань",
          "Казань",
          "Нижнекамск",
          "Казань",
          "Казань",
          "Лениногорск",
          "Казань",
          "Казань",
          "Набережные Челны",
          "Казань",
          "Сокуры",
          "Казань",
          "Казань",
          "Набережные Челны",
          "Столбище",
          "Зеленодольск",
          "Чистополь",
          "Казань",
          "Казань",
          "Зеленодольск",
          "Нурлат",
          "Казань",
          "Казань",
          "Казань",
          "Набережные Челны",
          "Казань",
          "Лениногорск",
          "Нижнекамск",
          "Казань",
          "Альметьевск",
          "Набережные Челны",
          "Бугульма",
          "Казань",
          "Казань",
          "Зеленодольск",
          "Казань",
          "Казань",
          "Казань",
          "Казань",
          "Елабуга",
          "Базарные Матаки",
          "Казань",
          "Альметьевск",
          "Набережные Челны",
          "Казань",
          "Васильево",
          "Нижнекамск",
          "Казань",
          "Казань",
          "Казань",
          "Казань",
          "Набережные Челны",
          "Казань",
          "Бугульма",
          "Казань",
          "Казань",
          "Казань",
          "Бавлы",
          "Каймары",
          "Среднее Девятово",
          "Казань",
          "Казань",
          "Казань",
          "Казань",
          "Казань",
          "Казань",
          "Казань",
          "Казань",
          "Казань",
          "Казань",
          "Казань",
          "Казань",
          "Казань",
          "Казань",
          "Казань",
          "Казань",
          "Казань",
          "Казань",
          "Набережные Челны",
          "Казань",
          "Осиново",
          "Казань",
          "Осиново",
          "Казань",
          "Казань",
          "Осиново",
          "Куюки",
          "Осиново",
          "Осиново",
          "Казань",
          "Казань",
          "Казань",
          "Казань",
          "Куюки",
          "Альметьевск",
          "Казань",
          "Набережные Челны",
          "Нижнекамск",
          "Казань",
          "Набережные Челны",
          "Казань",
          "Казань",
          "Казань",
          "Казань",
          "Елабуга",
          "Зеленодольск",
          "Казань",
          "Казань",
          "Казань",
          "Казань",
          "Альметьевск",
          "Казань",
          "Набережные Челны",
          "Казань",
          "Казань",
          "Казань",
          "Казань",
          "Казань",
          "Высокая Гора",
          "Осиново",
          "Елабуга",
          "Казань",
          "Джалиль",
          "Васильево",
          "Осиново",
          "Осиново",
          "Казань",
          "Казань",
          "Казань",
          "Казань",
          "Казань",
          "Казань",
          "Казань",
          "Набережные Челны",
          "Бугульма",
          "Альметьевск",
          "Казань",
          "Казань",
          "Казань",
          "Зеленодольск",
          "Набережные Челны",
          "Пестрецы",
          "Казань",
          "Казань",
          "Актюбинский",
          "Казань",
          "Казань",
          "Казань",
          "Казань",
          "Казань",
          "Казань",
          "Набережные Челны",
          "Казань",
          "Казань",
          "Бавлы",
          "Казань",
          "Казань",
          "Осиново",
          "Высокая Гора",
          "Казань",
          "Казань",
          "Набережные Челны",
          "Бугульма",
          "Чистополь",
          "Казань",
          "Казань",
          "Муслюмово",
          "Набережные Челны",
          "Казань",
          "Казань",
          "Казань",
          "Казань",
          "Казань",
          "Казань",
          "Набережные Челны",
          "Казань",
          "Казань",
          "Казань",
          "Казань",
          "Казань",
          "Казань",
          "Казань",
          "Набережные Челны",
          "Казань",
          "Высокая Гора",
          "Казань",
          "Казань",
          "Казань",
          "Казань",
          "Арск",
          "Васильево",
          "Зеленодольск",
          "Казань",
          "Казань",
          "Зеленодольск",
          "Альметьевск",
          "Казань",
          "Набережные Челны",
          "Лениногорск",
          "Казань",
          "Казань",
          "Казань",
          "Набережные Челны",
          "Казань",
          "Казань",
          "Казань",
          "Бугульма",
          "Казань",
          "Усады",
          "Лениногорск",
          "Казань",
          "Казань",
          "Альметьевск",
          "Казань",
          "Набережные Челны",
          "Зеленодольск",
          "Казань",
          "Казань",
          "Казань",
          "Казань",
          "Азьмушкино",
          "Бугульма",
          "Набережные Челны",
          "Казань",
          "Набережные Челны",
          "Елабуга",
          "Казань",
          "Набережные Челны",
          "Казань",
          "Лениногорск",
          "Казань",
          "Альметьевск",
          "Набережные Челны",
          "Альметьевск",
          "Казань",
          "Старое Шигалеево",
          "Казань",
          "Казань",
          "Казань",
          "Бугульма",
          "Кукмор",
          "Набережные Челны",
          "Казань",
          "Казань",
          "Казань",
          "Казань",
          "Альметьевск",
          "Казань",
          "Казань",
          "Казань",
          "Осиново",
          "Бугульма",
          "Елабуга",
          "Елабуга",
          "Казань",
          "Высокая Гора",
          "Набережные Челны",
          "Казань",
          "Казань",
          "Чистополь",
          "Осиново",
          "Казань",
          "Бугульма",
          "Набережные Челны",
          "Казань",
          "Казань",
          "Набережные Челны",
          "Казань",
          "Казань",
          "Буинск",
          "Бугульма",
          "Казань",
          "Казань",
          "Альметьевск",
          "Казань",
          "Казань",
          "Казань",
          "Казань",
          "Зеленодольск",
          "Казань",
          "Муслюмово",
          "Набережные Челны",
          "Казань",
          "Казань",
          "Альметьевск",
          "Казань",
          "Нижнекамск",
          "Казань",
          "Нурлат",
          "Набережные Челны",
          "Альметьевск",
          "Казань",
          "Казань",
          "Казань",
          "Казань",
          "Набережные Челны",
          "Казань",
          "Осиново",
          "Осиново",
          "Казань",
          "Казань",
          "Казань",
          "Казань",
          "Казань",
          "Набережные Челны",
          "Казань",
          "Казань",
          "Казань",
          "Казань",
          "Арск",
          "Казань",
          "Альметьевск",
          "Нурлат",
          "Казань",
          "Казань",
          "Набережные Челны",
          "Высокая Гора",
          "Заинск",
          "Казань",
          "Казань",
          "Альметьевск",
          "Зеленодольск",
          "Сетяково",
          "Бугульма",
          "Казань",
          "Набережные Челны",
          "Набережные Челны",
          "Казань",
          "Нижнекамск",
          "Новошешминск",
          "Нижнекамск",
          "Казань",
          "Казань",
          "Альметьевск",
          "Казань",
          "Казань",
          "Казань",
          "Казань",
          "Казань",
          "Казань",
          "Казань",
          "Казань",
          "Казань",
          "Казань",
          "Бугульма",
          "Альметьевск",
          "Казань",
          "Заинск",
          "Набережные Челны",
          "Казань",
          "Набережные Челны",
          "Набережные Челны",
          "Набережные Челны",
          "Менделеевск",
          "Альметьевск",
          "Арск",
          "Казань",
          "Набережные Челны",
          "Альметьевск",
          "Васильево",
          "Казань",
          "Казань",
          "Казань",
          "Агрыз",
          "Казань",
          "Альметьевск",
          "Набережные Челны",
          "Казань",
          "Бугульма",
          "Набережные Челны",
          "Казань",
          "Казань",
          "Набережные Челны",
          "Казань",
          "Казань",
          "Казань",
          "Набережные Челны",
          "Казань",
          "Сарманово",
          "Набережные Челны",
          "Набережные Челны",
          "Казань",
          "Зеленодольск",
          "Казань",
          "Казань",
          "Казань",
          "Усады",
          "Казань",
          "Казань",
          "Нижнекамск",
          "Нижнекамск",
          "Галактионово",
          "Казань",
          "Бугульма",
          "Васильево",
          "Казань",
          "Лениногорск",
          "Казань",
          "Азнакаево",
          "Казань",
          "Высокая Гора",
          "Бугульма",
          "Мензелинск",
          "Елабуга",
          "Казань",
          "Набережные Челны",
          "Казань",
          "Яльчики",
          "Мамадыш",
          "Казань",
          "Старое Дрожжаное",
          "Казань",
          "Казань",
          "Казань",
          "Казань",
          "Казань",
          "Нижнекамск",
          "Бугульма",
          "Алексеевское",
          "Нижнекамск",
          "Казань",
          "Бугульма",
          "Казань",
          "Нижнекамск",
          "Казань",
          "Казань",
          "Альметьевск",
          "Джалиль",
          "Казань",
          "Казань",
          "Альметьевск",
          "Казань",
          "Казань",
          "Зеленодольск",
          "Казань",
          "Зеленодольск",
          "Казань",
          "Арск",
          "Казань",
          "Бугульма",
          "Набережные Челны",
          "Альметьевск",
          "Набережные Челны",
          "Казань",
          "Казань",
          "Зеленодольск"
         ],
         "xaxis": "x3",
         "y": {
          "bdata": "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",
          "dtype": "f8"
         },
         "yaxis": "y3"
        },
        {
         "name": "Продажа",
         "type": "box",
         "x": [
          "Казань",
          "Казань",
          "Казань",
          "Казань",
          "Казань",
          "Казань",
          "Казань",
          "Набережные Челны",
          "Казань",
          "Казань",
          "Горизонт",
          "Казань",
          "Казань",
          "Казань",
          "Болгар",
          "Казань",
          "Казань",
          "Новая Тура",
          "Казань",
          "Набережные Челны",
          "Набережные Челны",
          "Казань",
          "Казань",
          "Казань",
          "Альметьевск",
          "Казань",
          "Казань",
          "Казань",
          "Казань",
          "Набережные Челны",
          "Набережные Челны",
          "Нижнекамск",
          "Казань",
          "Арск",
          "Казань",
          "Казань",
          "Куюки",
          "Казань",
          "Казань",
          "Казань",
          "Менделеевск",
          "Лениногорск",
          "Казань",
          "Нижнекамск",
          "Набережные Челны",
          "Зеленодольск",
          "Чистополь",
          "Казань",
          "Набережные Челны",
          "Набережные Челны",
          "Казань",
          "Казань",
          "Чистополь",
          "Казань",
          "Альметьевск",
          "Казань",
          "Казань",
          "Казань",
          "Сабакаево",
          "Казань",
          "Осиново",
          "Казань",
          "Бугульма",
          "Альметьевск",
          "Арск",
          "Казань",
          "Казань",
          "Казань",
          "Куюки",
          "Казань",
          "Казань",
          "Казань",
          "Казань",
          "Набережные Челны",
          "Казань",
          "Казань",
          "Казань",
          "Казань",
          "Набережные Челны",
          "Казань",
          "Казань",
          "Азнакаево",
          "Казань",
          "Гильдеево",
          "Казань",
          "Казань",
          "Казань",
          "Казань",
          "Казань",
          "Казань",
          "Альметьевск",
          "Васильево",
          "Казань",
          "Набережные Челны",
          "Набережные Челны",
          "Казань",
          "Казань",
          "Казань",
          "Альметьевск",
          "Ильбухтино",
          "Набережные Челны",
          "Казань",
          "Набережные Челны",
          "Казань",
          "Набережные Челны",
          "Казань",
          "Набережные Челны",
          "Нижние Метески",
          "Арск",
          "Казань",
          "Лаишево",
          "Бугульма",
          "Мамадыш",
          "Эстачи",
          "Чистополь",
          "Казань",
          "Сокуры",
          "Казань",
          "Казань",
          "Старое Кощаково",
          "Казань",
          "Зеленодольск",
          "Казань",
          "Набережные Челны",
          "Набережные Челны",
          "Казань",
          "Казань",
          "Сокуры",
          "Шемордан",
          "Казань",
          "Набережные Челны",
          "Набережные Челны",
          "Казань",
          "Набережные Челны",
          "Набережные Челны",
          "Казань",
          "Мензелинск",
          "Казань",
          "Зеленодольск",
          "Казань",
          "Набережные Челны",
          "Набережные Челны",
          "Набережные Челны",
          "Набережные Челны",
          "Заинск",
          "Казань",
          "Альметьевск",
          "Набережные Челны",
          "Казань",
          "Ильбухтино",
          "Альметьевск",
          "Бугульма",
          "Зеленодольск",
          "Чистополь",
          "Нурлат",
          "Набережные Челны",
          "Старое Шигалеево",
          "Орёл",
          "Казань",
          "Казань",
          "Набережные Челны",
          "Васильево",
          "Царёво",
          "Набережные Челны",
          "Казань",
          "Казань",
          "Лениногорск",
          "Казань",
          "Зеленодольск",
          "Казань",
          "Казань",
          "Казань",
          "Казань",
          "Бавлы",
          "Кирби",
          "Казань",
          "Высокая Гора",
          "Елабуга",
          "Казань",
          "Богатые Сабы",
          "Актюбинский",
          "Нижнекамск",
          "Казань",
          "Набережные Челны",
          "Новая Тура",
          "Нижнекамск",
          "Казань",
          "Казань",
          "Апастово",
          "Набережные Челны",
          "Казань",
          "Набережные Челны",
          "Казань",
          "Набережные Челны",
          "Набережные Челны",
          "Калейкино",
          "Альметьевск",
          "Буинск",
          "Казань",
          "Казань",
          "Яшь Кеч",
          "Казань",
          "Казань",
          "Казань",
          "Большие Яки",
          "Бугульма",
          "Казань",
          "Тетюши",
          "Казань",
          "Казань",
          "Сосновый Бор",
          "Никольское",
          "Городок",
          "Казань",
          "Казань",
          "Нижнекамск",
          "Казань",
          "Набережные Челны",
          "Казань",
          "Зеленодольск",
          "Старое Шигалеево",
          "Нижнекамск",
          "Казань",
          "Лениногорск",
          "Казань",
          "Октябрьский",
          "Казань",
          "Сосновый Бор",
          "Уруссу",
          "Набережные Челны",
          "Казань",
          "Нижняя Мактама",
          "Нурлат",
          "Набережные Челны",
          "Набережные Челны",
          "Казань",
          "Альметьевск",
          "Бавлы",
          "Казань",
          "Казань",
          "Казань",
          "Казань",
          "Набережные Челны",
          "Смыловка",
          "Казань",
          "Большие Яки",
          "Заинск",
          "Новая Тура",
          "Городок",
          "Азеево",
          "Набережные Челны",
          "Набережные Челны",
          "Казань",
          "Казань",
          "Кощаково",
          "Казань",
          "Казань",
          "Нижний Услон",
          "Казань",
          "Казань",
          "Набережные Челны",
          "Казань",
          "Казань",
          "Казань",
          "Казань",
          "Казань",
          "Новое Шигалеево",
          "Новое Шигалеево",
          "Казань",
          "Набережные Челны",
          "Чистополь",
          "Альметьевск",
          "Казань",
          "Осиново",
          "Казань",
          "Набережные Челны",
          "Елабуга",
          "Казань",
          "Казань",
          "Казань",
          "Высокая Гора",
          "Высокая Гора",
          "Кирби",
          "Зеленодольск",
          "Рыбная Слобода",
          "Казань",
          "Пестрецы",
          "Казань",
          "Актюбинский",
          "Казань",
          "Шали",
          "Казань",
          "Дубъязы",
          "Набережные Челны",
          "Набережные Челны",
          "Агрыз",
          "Набережные Челны",
          "Казань",
          "Осиново",
          "Осиново",
          "Зеленодольск",
          "Осиново",
          "Казань",
          "Васильево",
          "Нижнекамск",
          "Казань",
          "Набережные Челны",
          "Казань",
          "Зеленодольск",
          "Нижнекамск",
          "Казань",
          "Казань",
          "Агрыз",
          "Новый Кинер",
          "Набережные Челны",
          "Казань",
          "Бугульма",
          "Апастово",
          "Пестрецы",
          "Альметьевск",
          "Азнакаево",
          "Заинск",
          "Нижнекамск",
          "Высокая Гора",
          "Казань",
          "Елабуга",
          "Щурячий",
          "Казань",
          "Тетюши",
          "Казань",
          "Нижняя Мактама",
          "Большая Шильна",
          "Казань",
          "Казань",
          "Казань",
          "Казань",
          "Казань",
          "Лениногорск",
          "Большое Афанасово",
          "Казань",
          "Казань",
          "Казань",
          "Казань",
          "Казань",
          "Казань",
          "Казань",
          "Казань",
          "Казань",
          "Нурлат",
          "Буинск",
          "Набережные Челны",
          "Елабуга",
          "Набережные Челны",
          "Альметьевск",
          "Альметьевск",
          "Казань",
          "Нурлат",
          "Казань",
          "Казань",
          "Казань",
          "Набережные Челны",
          "Новониколаевский",
          "Карабаш",
          "Набережные Челны",
          "Казань",
          "Казань",
          "Старое Кощаково",
          "Казань",
          "Казань",
          "Бугульма",
          "Казань",
          "Набережные Челны",
          "Набережные Челны",
          "Заинск",
          "Казань",
          "Казань",
          "Зеленодольск",
          "Нижнекамск",
          "Альметьевск",
          "Казань",
          "Новая Тура",
          "Бугульма",
          "Нижнекамск",
          "Казань",
          "Набережные Челны",
          "Казань",
          "Казань",
          "Казань",
          "Набережные Челны",
          "Казань",
          "Осиново",
          "Базарные Матаки",
          "Казань",
          "Базарные Матаки",
          "Казань",
          "Казань",
          "Казань",
          "Базарные Матаки",
          "Казань",
          "Набережные Моркваши",
          "Чистополь",
          "Нижнекамск",
          "Набережные Челны",
          "Казань",
          "Казань",
          "Осиново",
          "Осиново",
          "Осиново",
          "Осиново",
          "Осиново",
          "Осиново",
          "Осиново",
          "Казань",
          "Осиново",
          "Альметьевск",
          "Казань",
          "Казань",
          "Казань",
          "Казань",
          "Казань",
          "Нижнекамск",
          "Набережные Челны",
          "Нижнекамск",
          "Нижнекамск",
          "Казань",
          "Казань",
          "Казань",
          "Сосновый Бор",
          "Нижнекамск",
          "Нижнекамск",
          "Киндери",
          "Нижнекамск",
          "Нижнекамск",
          "Казань",
          "Нижнекамск",
          "Казань",
          "Казань",
          "Набережные Челны",
          "Кукмор",
          "Набережные Челны",
          "Кукмор",
          "Нижнекамск",
          "Набережные Челны",
          "Елабуга",
          "Иннополис",
          "Тимяшево",
          "Альметьевск",
          "Нижнекамск",
          "Казань",
          "Казань",
          "Казань",
          "Казань",
          "Набережные Челны",
          "Казань",
          "Казань",
          "Казань",
          "Набережные Челны",
          "Набережные Челны",
          "Казань",
          "Васильево",
          "Казань",
          "Казань",
          "Набережные Челны",
          "Казань",
          "Казань",
          "Казань",
          "Казань",
          "Казань",
          "Казань",
          "Казань",
          "Камское Устье",
          "Набережные Челны",
          "Нижнекамск",
          "Кукмор",
          "Нижнекамск",
          "Лаишево",
          "Набережные Челны",
          "Казань",
          "Бугульма",
          "Васильево",
          "Лениногорск",
          "Казань",
          "Зеленодольск",
          "Альметьевск",
          "Бавлы",
          "Тетюши",
          "Исмагилово",
          "Азнакаево",
          "Казань",
          "Альметьевск",
          "Нурлат",
          "Казань",
          "Казань",
          "Лениногорск",
          "Казань",
          "Кукмор",
          "Набережные Челны",
          "Буинск",
          "Калинино",
          "Бавлы",
          "Набережные Челны",
          "Набережные Челны",
          "Казань",
          "Казань",
          "Казань",
          "Лениногорск",
          "Альметьевск",
          "Казань",
          "Альметьевск",
          "Казань",
          "Казань",
          "Нижнекамск",
          "Иннополис",
          "Иннополис",
          "Казань",
          "Каратун",
          "Актаныш",
          "Сапуголи",
          "Казань",
          "Казань",
          "Казань",
          "Нижнекамск",
          "Казань",
          "Казань",
          "Набережные Челны",
          "Азнакаево",
          "Буинск",
          "Казань",
          "Бугульма",
          "Казань",
          "Лениногорск",
          "Казань",
          "Нижнекамск",
          "Новоникольск",
          "Старое Шигалеево",
          "Аксубаево",
          "Казань",
          "Зеленодольск",
          "Набережные Челны",
          "Казань",
          "Джалиль",
          "Альметьевск",
          "Альметьевск",
          "Альметьевск",
          "Альметьевск",
          "Уруссу",
          "Набережные Челны",
          "Анатыш",
          "Казань",
          "Казань",
          "Альметьевск",
          "Осиново",
          "Осиново",
          "Осиново",
          "Набережные Челны",
          "Нижнекамск",
          "Старое Шигалеево",
          "Усады",
          "Бугульма",
          "Зеленодольск",
          "Набережные Челны",
          "Набережные Челны",
          "Казань",
          "Казань",
          "Азнакаево",
          "Казань",
          "Лениногорск",
          "Казань",
          "Лениногорск",
          "Казань",
          "Казань",
          "Казань",
          "Казань",
          "Казань",
          "Казань",
          "Казань",
          "Болгар",
          "Казань",
          "Нижнекамск",
          "Су",
          "Елабуга",
          "Осиново",
          "Осиново",
          "Осиново",
          "Осиново",
          "Агрыз",
          "Бавлы",
          "Набережные Челны",
          "Казань",
          "Азнакаево",
          "Альметьевск",
          "Троицкий",
          "Казань",
          "Набережные Челны",
          "Бавлы",
          "Набережные Челны",
          "Чистополь",
          "Болгар",
          "Казань",
          "Нурлат",
          "Азнакаево",
          "Казань",
          "Альметьевск",
          "Казань",
          "Нижнекамск",
          "Усадьба",
          "Лениногорск",
          "Куйбышевский Затон",
          "Мамадыш",
          "Набережные Челны",
          "Набережные Челны",
          "Менделеевск",
          "Царёво",
          "Набережные Челны",
          "Заинск",
          "Икское Устье",
          "Ерыкса",
          "Набережные Челны",
          "Казань",
          "Нижняя Мактама",
          "Пестрецы",
          "Кичуй",
          "Высокая Гора",
          "Бугульма",
          "Лаишево",
          "Чистополь",
          "Казань",
          "Казань",
          "Антоновка",
          "Базарные Матаки",
          "Тетюши",
          "Казань",
          "Чистополь"
         ],
         "xaxis": "x4",
         "y": {
          "bdata": "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",
          "dtype": "f8"
         },
         "yaxis": "y4"
        }
       ],
       "layout": {
        "annotations": [
         {
          "font": {
           "size": 16
          },
          "showarrow": false,
          "text": "Распределение цен аренды",
          "x": 0.225,
          "xanchor": "center",
          "xref": "paper",
          "y": 1,
          "yanchor": "bottom",
          "yref": "paper"
         },
         {
          "font": {
           "size": 16
          },
          "showarrow": false,
          "text": "Распределение цен продажи",
          "x": 0.775,
          "xanchor": "center",
          "xref": "paper",
          "y": 1,
          "yanchor": "bottom",
          "yref": "paper"
         },
         {
          "font": {
           "size": 16
          },
          "showarrow": false,
          "text": "Box-plot цен аренды по городам",
          "x": 0.225,
          "xanchor": "center",
          "xref": "paper",
          "y": 0.375,
          "yanchor": "bottom",
          "yref": "paper"
         },
         {
          "font": {
           "size": 16
          },
          "showarrow": false,
          "text": "Box-plot цен продажи по городам",
          "x": 0.775,
          "xanchor": "center",
          "xref": "paper",
          "y": 0.375,
          "yanchor": "bottom",
          "yref": "paper"
         }
        ],
        "height": 800,
        "showlegend": false,
        "template": {
         "data": {
          "bar": [
           {
            "error_x": {
             "color": "#2a3f5f"
            },
            "error_y": {
             "color": "#2a3f5f"
            },
            "marker": {
             "line": {
              "color": "#E5ECF6",
              "width": 0.5
             },
             "pattern": {
              "fillmode": "overlay",
              "size": 10,
              "solidity": 0.2
             }
            },
            "type": "bar"
           }
          ],
          "barpolar": [
           {
            "marker": {
             "line": {
              "color": "#E5ECF6",
              "width": 0.5
             },
             "pattern": {
              "fillmode": "overlay",
              "size": 10,
              "solidity": 0.2
             }
            },
            "type": "barpolar"
           }
          ],
          "carpet": [
           {
            "aaxis": {
             "endlinecolor": "#2a3f5f",
             "gridcolor": "white",
             "linecolor": "white",
             "minorgridcolor": "white",
             "startlinecolor": "#2a3f5f"
            },
            "baxis": {
             "endlinecolor": "#2a3f5f",
             "gridcolor": "white",
             "linecolor": "white",
             "minorgridcolor": "white",
             "startlinecolor": "#2a3f5f"
            },
            "type": "carpet"
           }
          ],
          "choropleth": [
           {
            "colorbar": {
             "outlinewidth": 0,
             "ticks": ""
            },
            "type": "choropleth"
           }
          ],
          "contour": [
           {
            "colorbar": {
             "outlinewidth": 0,
             "ticks": ""
            },
            "colorscale": [
             [
              0,
              "#0d0887"
             ],
             [
              0.1111111111111111,
              "#46039f"
             ],
             [
              0.2222222222222222,
              "#7201a8"
             ],
             [
              0.3333333333333333,
              "#9c179e"
             ],
             [
              0.4444444444444444,
              "#bd3786"
             ],
             [
              0.5555555555555556,
              "#d8576b"
             ],
             [
              0.6666666666666666,
              "#ed7953"
             ],
             [
              0.7777777777777778,
              "#fb9f3a"
             ],
             [
              0.8888888888888888,
              "#fdca26"
             ],
             [
              1,
              "#f0f921"
             ]
            ],
            "type": "contour"
           }
          ],
          "contourcarpet": [
           {
            "colorbar": {
             "outlinewidth": 0,
             "ticks": ""
            },
            "type": "contourcarpet"
           }
          ],
          "heatmap": [
           {
            "colorbar": {
             "outlinewidth": 0,
             "ticks": ""
            },
            "colorscale": [
             [
              0,
              "#0d0887"
             ],
             [
              0.1111111111111111,
              "#46039f"
             ],
             [
              0.2222222222222222,
              "#7201a8"
             ],
             [
              0.3333333333333333,
              "#9c179e"
             ],
             [
              0.4444444444444444,
              "#bd3786"
             ],
             [
              0.5555555555555556,
              "#d8576b"
             ],
             [
              0.6666666666666666,
              "#ed7953"
             ],
             [
              0.7777777777777778,
              "#fb9f3a"
             ],
             [
              0.8888888888888888,
              "#fdca26"
             ],
             [
              1,
              "#f0f921"
             ]
            ],
            "type": "heatmap"
           }
          ],
          "histogram": [
           {
            "marker": {
             "pattern": {
              "fillmode": "overlay",
              "size": 10,
              "solidity": 0.2
             }
            },
            "type": "histogram"
           }
          ],
          "histogram2d": [
           {
            "colorbar": {
             "outlinewidth": 0,
             "ticks": ""
            },
            "colorscale": [
             [
              0,
              "#0d0887"
             ],
             [
              0.1111111111111111,
              "#46039f"
             ],
             [
              0.2222222222222222,
              "#7201a8"
             ],
             [
              0.3333333333333333,
              "#9c179e"
             ],
             [
              0.4444444444444444,
              "#bd3786"
             ],
             [
              0.5555555555555556,
              "#d8576b"
             ],
             [
              0.6666666666666666,
              "#ed7953"
             ],
             [
              0.7777777777777778,
              "#fb9f3a"
             ],
             [
              0.8888888888888888,
              "#fdca26"
             ],
             [
              1,
              "#f0f921"
             ]
            ],
            "type": "histogram2d"
           }
          ],
          "histogram2dcontour": [
           {
            "colorbar": {
             "outlinewidth": 0,
             "ticks": ""
            },
            "colorscale": [
             [
              0,
              "#0d0887"
             ],
             [
              0.1111111111111111,
              "#46039f"
             ],
             [
              0.2222222222222222,
              "#7201a8"
             ],
             [
              0.3333333333333333,
              "#9c179e"
             ],
             [
              0.4444444444444444,
              "#bd3786"
             ],
             [
              0.5555555555555556,
              "#d8576b"
             ],
             [
              0.6666666666666666,
              "#ed7953"
             ],
             [
              0.7777777777777778,
              "#fb9f3a"
             ],
             [
              0.8888888888888888,
              "#fdca26"
             ],
             [
              1,
              "#f0f921"
             ]
            ],
            "type": "histogram2dcontour"
           }
          ],
          "mesh3d": [
           {
            "colorbar": {
             "outlinewidth": 0,
             "ticks": ""
            },
            "type": "mesh3d"
           }
          ],
          "parcoords": [
           {
            "line": {
             "colorbar": {
              "outlinewidth": 0,
              "ticks": ""
             }
            },
            "type": "parcoords"
           }
          ],
          "pie": [
           {
            "automargin": true,
            "type": "pie"
           }
          ],
          "scatter": [
           {
            "fillpattern": {
             "fillmode": "overlay",
             "size": 10,
             "solidity": 0.2
            },
            "type": "scatter"
           }
          ],
          "scatter3d": [
           {
            "line": {
             "colorbar": {
              "outlinewidth": 0,
              "ticks": ""
             }
            },
            "marker": {
             "colorbar": {
              "outlinewidth": 0,
              "ticks": ""
             }
            },
            "type": "scatter3d"
           }
          ],
          "scattercarpet": [
           {
            "marker": {
             "colorbar": {
              "outlinewidth": 0,
              "ticks": ""
             }
            },
            "type": "scattercarpet"
           }
          ],
          "scattergeo": [
           {
            "marker": {
             "colorbar": {
              "outlinewidth": 0,
              "ticks": ""
             }
            },
            "type": "scattergeo"
           }
          ],
          "scattergl": [
           {
            "marker": {
             "colorbar": {
              "outlinewidth": 0,
              "ticks": ""
             }
            },
            "type": "scattergl"
           }
          ],
          "scattermap": [
           {
            "marker": {
             "colorbar": {
              "outlinewidth": 0,
              "ticks": ""
             }
            },
            "type": "scattermap"
           }
          ],
          "scattermapbox": [
           {
            "marker": {
             "colorbar": {
              "outlinewidth": 0,
              "ticks": ""
             }
            },
            "type": "scattermapbox"
           }
          ],
          "scatterpolar": [
           {
            "marker": {
             "colorbar": {
              "outlinewidth": 0,
              "ticks": ""
             }
            },
            "type": "scatterpolar"
           }
          ],
          "scatterpolargl": [
           {
            "marker": {
             "colorbar": {
              "outlinewidth": 0,
              "ticks": ""
             }
            },
            "type": "scatterpolargl"
           }
          ],
          "scatterternary": [
           {
            "marker": {
             "colorbar": {
              "outlinewidth": 0,
              "ticks": ""
             }
            },
            "type": "scatterternary"
           }
          ],
          "surface": [
           {
            "colorbar": {
             "outlinewidth": 0,
             "ticks": ""
            },
            "colorscale": [
             [
              0,
              "#0d0887"
             ],
             [
              0.1111111111111111,
              "#46039f"
             ],
             [
              0.2222222222222222,
              "#7201a8"
             ],
             [
              0.3333333333333333,
              "#9c179e"
             ],
             [
              0.4444444444444444,
              "#bd3786"
             ],
             [
              0.5555555555555556,
              "#d8576b"
             ],
             [
              0.6666666666666666,
              "#ed7953"
             ],
             [
              0.7777777777777778,
              "#fb9f3a"
             ],
             [
              0.8888888888888888,
              "#fdca26"
             ],
             [
              1,
              "#f0f921"
             ]
            ],
            "type": "surface"
           }
          ],
          "table": [
           {
            "cells": {
             "fill": {
              "color": "#EBF0F8"
             },
             "line": {
              "color": "white"
             }
            },
            "header": {
             "fill": {
              "color": "#C8D4E3"
             },
             "line": {
              "color": "white"
             }
            },
            "type": "table"
           }
          ]
         },
         "layout": {
          "annotationdefaults": {
           "arrowcolor": "#2a3f5f",
           "arrowhead": 0,
           "arrowwidth": 1
          },
          "autotypenumbers": "strict",
          "coloraxis": {
           "colorbar": {
            "outlinewidth": 0,
            "ticks": ""
           }
          },
          "colorscale": {
           "diverging": [
            [
             0,
             "#8e0152"
            ],
            [
             0.1,
             "#c51b7d"
            ],
            [
             0.2,
             "#de77ae"
            ],
            [
             0.3,
             "#f1b6da"
            ],
            [
             0.4,
             "#fde0ef"
            ],
            [
             0.5,
             "#f7f7f7"
            ],
            [
             0.6,
             "#e6f5d0"
            ],
            [
             0.7,
             "#b8e186"
            ],
            [
             0.8,
             "#7fbc41"
            ],
            [
             0.9,
             "#4d9221"
            ],
            [
             1,
             "#276419"
            ]
           ],
           "sequential": [
            [
             0,
             "#0d0887"
            ],
            [
             0.1111111111111111,
             "#46039f"
            ],
            [
             0.2222222222222222,
             "#7201a8"
            ],
            [
             0.3333333333333333,
             "#9c179e"
            ],
            [
             0.4444444444444444,
             "#bd3786"
            ],
            [
             0.5555555555555556,
             "#d8576b"
            ],
            [
             0.6666666666666666,
             "#ed7953"
            ],
            [
             0.7777777777777778,
             "#fb9f3a"
            ],
            [
             0.8888888888888888,
             "#fdca26"
            ],
            [
             1,
             "#f0f921"
            ]
           ],
           "sequentialminus": [
            [
             0,
             "#0d0887"
            ],
            [
             0.1111111111111111,
             "#46039f"
            ],
            [
             0.2222222222222222,
             "#7201a8"
            ],
            [
             0.3333333333333333,
             "#9c179e"
            ],
            [
             0.4444444444444444,
             "#bd3786"
            ],
            [
             0.5555555555555556,
             "#d8576b"
            ],
            [
             0.6666666666666666,
             "#ed7953"
            ],
            [
             0.7777777777777778,
             "#fb9f3a"
            ],
            [
             0.8888888888888888,
             "#fdca26"
            ],
            [
             1,
             "#f0f921"
            ]
           ]
          },
          "colorway": [
           "#636efa",
           "#EF553B",
           "#00cc96",
           "#ab63fa",
           "#FFA15A",
           "#19d3f3",
           "#FF6692",
           "#B6E880",
           "#FF97FF",
           "#FECB52"
          ],
          "font": {
           "color": "#2a3f5f"
          },
          "geo": {
           "bgcolor": "white",
           "lakecolor": "white",
           "landcolor": "#E5ECF6",
           "showlakes": true,
           "showland": true,
           "subunitcolor": "white"
          },
          "hoverlabel": {
           "align": "left"
          },
          "hovermode": "closest",
          "mapbox": {
           "style": "light"
          },
          "paper_bgcolor": "white",
          "plot_bgcolor": "#E5ECF6",
          "polar": {
           "angularaxis": {
            "gridcolor": "white",
            "linecolor": "white",
            "ticks": ""
           },
           "bgcolor": "#E5ECF6",
           "radialaxis": {
            "gridcolor": "white",
            "linecolor": "white",
            "ticks": ""
           }
          },
          "scene": {
           "xaxis": {
            "backgroundcolor": "#E5ECF6",
            "gridcolor": "white",
            "gridwidth": 2,
            "linecolor": "white",
            "showbackground": true,
            "ticks": "",
            "zerolinecolor": "white"
           },
           "yaxis": {
            "backgroundcolor": "#E5ECF6",
            "gridcolor": "white",
            "gridwidth": 2,
            "linecolor": "white",
            "showbackground": true,
            "ticks": "",
            "zerolinecolor": "white"
           },
           "zaxis": {
            "backgroundcolor": "#E5ECF6",
            "gridcolor": "white",
            "gridwidth": 2,
            "linecolor": "white",
            "showbackground": true,
            "ticks": "",
            "zerolinecolor": "white"
           }
          },
          "shapedefaults": {
           "line": {
            "color": "#2a3f5f"
           }
          },
          "ternary": {
           "aaxis": {
            "gridcolor": "white",
            "linecolor": "white",
            "ticks": ""
           },
           "baxis": {
            "gridcolor": "white",
            "linecolor": "white",
            "ticks": ""
           },
           "bgcolor": "#E5ECF6",
           "caxis": {
            "gridcolor": "white",
            "linecolor": "white",
            "ticks": ""
           }
          },
          "title": {
           "x": 0.05
          },
          "xaxis": {
           "automargin": true,
           "gridcolor": "white",
           "linecolor": "white",
           "ticks": "",
           "title": {
            "standoff": 15
           },
           "zerolinecolor": "white",
           "zerolinewidth": 2
          },
          "yaxis": {
           "automargin": true,
           "gridcolor": "white",
           "linecolor": "white",
           "ticks": "",
           "title": {
            "standoff": 15
           },
           "zerolinecolor": "white",
           "zerolinewidth": 2
          }
         }
        },
        "xaxis": {
         "anchor": "y",
         "domain": [
          0,
          0.45
         ]
        },
        "xaxis2": {
         "anchor": "y2",
         "domain": [
          0.55,
          1
         ]
        },
        "xaxis3": {
         "anchor": "y3",
         "domain": [
          0,
          0.45
         ]
        },
        "xaxis4": {
         "anchor": "y4",
         "domain": [
          0.55,
          1
         ]
        },
        "yaxis": {
         "anchor": "x",
         "domain": [
          0.625,
          1
         ]
        },
        "yaxis2": {
         "anchor": "x2",
         "domain": [
          0.625,
          1
         ]
        },
        "yaxis3": {
         "anchor": "x3",
         "domain": [
          0,
          0.375
         ]
        },
        "yaxis4": {
         "anchor": "x4",
         "domain": [
          0,
          0.375
         ]
        }
       }
      }
     },
     "metadata": {},
     "output_type": "display_data"
    }
   ],
   "source": [
    "# Создаем интерактивную визуализацию распределения цен\n",
    "fig = make_subplots(rows=2, cols=2,\n",
    "                    subplot_titles=('Распределение цен аренды',\n",
    "                                  'Распределение цен продажи',\n",
    "                                  'Box-plot цен аренды по городам',\n",
    "                                  'Box-plot цен продажи по городам'))\n",
    "\n",
    "# Гистограммы распределения цен\n",
    "fig.add_trace(\n",
    "    go.Histogram(x=rent_data['price_per_meter'], name='Аренда',\n",
    "                 nbinsx=50, histnorm='probability'),\n",
    "    row=1, col=1\n",
    ")\n",
    "\n",
    "fig.add_trace(\n",
    "    go.Histogram(x=sale_data['price_per_meter'], name='Продажа',\n",
    "                 nbinsx=50, histnorm='probability'),\n",
    "    row=1, col=2\n",
    ")\n",
    "\n",
    "# Box-plots по городам\n",
    "fig.add_trace(\n",
    "    go.Box(x=rent_data['city'], y=rent_data['price_per_meter'],\n",
    "           name='Аренда'),\n",
    "    row=2, col=1\n",
    ")\n",
    "\n",
    "fig.add_trace(\n",
    "    go.Box(x=sale_data['city'], y=sale_data['price_per_meter'],\n",
    "           name='Продажа'),\n",
    "    row=2, col=2\n",
    ")\n",
    "\n",
    "fig.update_layout(height=800, showlegend=False)\n",
    "fig.show()"
   ]
  },
  {
   "cell_type": "code",
   "execution_count": 12,
   "id": "1d9958bb",
   "metadata": {},
   "outputs": [
    {
     "data": {
      "image/png": "[encoded data removed]",
      "text/plain": [
       "<Figure size 1200x800 with 2 Axes>"
      ]
     },
     "metadata": {},
     "output_type": "display_data"
    },
    {
     "name": "stdout",
     "output_type": "stream",
     "text": [
      "\n",
      "Сильные корреляции (Аренда):\n",
      "Общая площадь - price: 0.51\n",
      "lon - lat: -0.62\n",
      "total_price - price: 0.94\n",
      "total_price - Общая площадь: 0.65\n"
     ]
    },
    {
     "data": {
      "image/png": "[encoded data removed]",
      "text/plain": [
       "<Figure size 1200x800 with 2 Axes>"
      ]
     },
     "metadata": {},
     "output_type": "display_data"
    },
    {
     "name": "stdout",
     "output_type": "stream",
     "text": [
      "\n",
      "Сильные корреляции (Продажа):\n",
      "Общая площадь - price: 0.75\n",
      "Количество парковочных мест - Общая площадь: 0.68\n",
      "total_price - price: 1.00\n",
      "total_price - Общая площадь: 0.75\n"
     ]
    }
   ],
   "source": [
    "# Анализ корреляций между характеристиками объектов\n",
    "def analyze_correlations(df, title):\n",
    "    numeric_cols = df.select_dtypes(include=[np.number]).columns\n",
    "    corr_matrix = df[numeric_cols].corr()\n",
    "    \n",
    "    plt.figure(figsize=(12, 8))\n",
    "    sns.heatmap(corr_matrix, annot=True, cmap='coolwarm', center=0)\n",
    "    plt.title(f'Корреляционная матрица - {title}')\n",
    "    plt.show()\n",
    "    \n",
    "    # Находим сильные корреляции\n",
    "    strong_corr = []\n",
    "    for i in range(len(corr_matrix.columns)):\n",
    "        for j in range(i):\n",
    "            if abs(corr_matrix.iloc[i, j]) > 0.5:\n",
    "                strong_corr.append({\n",
    "                    'var1': corr_matrix.columns[i],\n",
    "                    'var2': corr_matrix.columns[j],\n",
    "                    'correlation': corr_matrix.iloc[i, j]\n",
    "                })\n",
    "    \n",
    "    if strong_corr:\n",
    "        print(f'\\nСильные корреляции ({title}):')\n",
    "        for corr in strong_corr:\n",
    "            print(f\"{corr['var1']} - {corr['var2']}: {corr['correlation']:.2f}\")\n",
    "\n",
    "analyze_correlations(rent_data, 'Аренда')\n",
    "analyze_correlations(sale_data, 'Продажа')"
   ]
  },
  {
   "cell_type": "code",
   "execution_count": 13,
   "id": "f8b5a796",
   "metadata": {},
   "outputs": [
    {
     "data": {
      "application/vnd.plotly.v1+json": {
       "config": {
        "plotlyServerURL": "https://plot.ly"
       },
       "data": [
        {
         "marker": {
          "color": {
           "bdata": "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",
           "dtype": "i4"
          },
          "colorscale": [
           [
            0,
            "#440154"
           ],
           [
            0.1111111111111111,
            "#482878"
           ],
           [
            0.2222222222222222,
            "#3e4989"
           ],
           [
            0.3333333333333333,
            "#31688e"
           ],
           [
            0.4444444444444444,
            "#26828e"
           ],
           [
            0.5555555555555556,
            "#1f9e89"
           ],
           [
            0.6666666666666666,
            "#35b779"
           ],
           [
            0.7777777777777778,
            "#6ece58"
           ],
           [
            0.8888888888888888,
            "#b5de2b"
           ],
           [
            1,
            "#fde725"
           ]
          ]
         },
         "mode": "markers",
         "name": "KMeans",
         "type": "scatter",
         "x": {
          "bdata": "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",
          "dtype": "f8"
         },
         "xaxis": "x",
         "y": {
          "bdata": "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",
          "dtype": "f8"
         },
         "yaxis": "y"
        },
        {
         "marker": {
          "color": {
           "bdata": "AAEBAAEBAAAAAAEAAAEAAAAAAAAAAAD/AAAAAAL/AAMAAAAAAAAAAAIAAAAAAAAAAAAAAAAAAAAABAAAAAEAAgABAAAAAQAAAAAAAAAEAwEAAAAAAAEAAAAAAAAAAQMAAAAAAAAAAAAAAAEBAAAAAAAABQAAAQH/AQAAAAAAAwAAAAAAAAABAAAAAAAAAAAAAAEEAQAGAAAAAAABAAAAAAAHAAAAAAAABgAAAAABAAAAAP8AAAAFAAABAQABAgH/AAUEAAAAAAAAAAAAAQABAQAAAAAAAAAAAAADAAABAAAAAAgAAAAAAQgAAAgAAAIBAAAA/wABAAAAAAAAAP8AAAAAAAAA/wAAAAAAAAAEAAAAAAEAAf8AAAEAAAkA/wEAAAAAAAAA/wAAAAAJAAEAAAAHAAAAAAAAAAQAAAAAAAADAAMAAAABAwAABAgABgAAAAAAAQAABQgACAAABQEAAAAAAAAAAAEAAQAAAQAABgAAAQAFAAABBQAIAAAACQAAAAEABgEABAECAAAAAAAAAAH/AAQBAAABAAAAAAEAAgAAAP///wAAAAAAAAAAAAAAAAAAAAAAAAEAAAAAAAAAAAAAAAAAAAAEAAEBAAEAAAAAAQAAAAAABAABAAAAAAAAAAEA/wAAAAAAAAAAAAABAgQAAAAAAQAAAP8AAAAAAAABAAD/AAAAAAAAAQIIAAD/AQAAAAAAAAEAAAAAAAAAAQD/AAAAAAcAAAAAAAQAAQYAAAABAAAAAgAABgAABAABAAAAAAABAgEAAQEAAQAGAAQBBAAAAAAAAv8BAAAAAAQAAAAAAgEBAAABAAAIAAACAQAAAQAA/wIAAAQAAAAAAAD/AQAABAABAAkBBAAAAAABAAAAAAAAAAABAAAAAAcABAkAAAEA/wAABAD/AgABAQAB/wEAAAQAAAAAAAAAAAAAAgQA/wEAAQEB/wQHAAEEAAAAAP8ABAEAAgEAAAEAAAABAP8BAQAAAAAAAAAAAQEIAAIAAAYAAwAAAgEBAAEA//8A/wAAAAAAAQL/AQACAAEAAAT/AAAEAAAAAAAABwACAQQBAAAA",
           "dtype": "i1"
          },
          "colorscale": [
           [
            0,
            "#440154"
           ],
           [
            0.1111111111111111,
            "#482878"
           ],
           [
            0.2222222222222222,
            "#3e4989"
           ],
           [
            0.3333333333333333,
            "#31688e"
           ],
           [
            0.4444444444444444,
            "#26828e"
           ],
           [
            0.5555555555555556,
            "#1f9e89"
           ],
           [
            0.6666666666666666,
            "#35b779"
           ],
           [
            0.7777777777777778,
            "#6ece58"
           ],
           [
            0.8888888888888888,
            "#b5de2b"
           ],
           [
            1,
            "#fde725"
           ]
          ]
         },
         "mode": "markers",
         "name": "DBSCAN",
         "type": "scatter",
         "x": {
          "bdata": "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",
          "dtype": "f8"
         },
         "xaxis": "x2",
         "y": {
          "bdata": "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",
          "dtype": "f8"
         },
         "yaxis": "y2"
        }
       ],
       "layout": {
        "annotations": [
         {
          "font": {
           "size": 16
          },
          "showarrow": false,
          "text": "KMeans кластеризация",
          "x": 0.225,
          "xanchor": "center",
          "xref": "paper",
          "y": 1,
          "yanchor": "bottom",
          "yref": "paper"
         },
         {
          "font": {
           "size": 16
          },
          "showarrow": false,
          "text": "DBSCAN кластеризация",
          "x": 0.775,
          "xanchor": "center",
          "xref": "paper",
          "y": 1,
          "yanchor": "bottom",
          "yref": "paper"
         }
        ],
        "height": 500,
        "template": {
         "data": {
          "bar": [
           {
            "error_x": {
             "color": "#2a3f5f"
            },
            "error_y": {
             "color": "#2a3f5f"
            },
            "marker": {
             "line": {
              "color": "#E5ECF6",
              "width": 0.5
             },
             "pattern": {
              "fillmode": "overlay",
              "size": 10,
              "solidity": 0.2
             }
            },
            "type": "bar"
           }
          ],
          "barpolar": [
           {
            "marker": {
             "line": {
              "color": "#E5ECF6",
              "width": 0.5
             },
             "pattern": {
              "fillmode": "overlay",
              "size": 10,
              "solidity": 0.2
             }
            },
            "type": "barpolar"
           }
          ],
          "carpet": [
           {
            "aaxis": {
             "endlinecolor": "#2a3f5f",
             "gridcolor": "white",
             "linecolor": "white",
             "minorgridcolor": "white",
             "startlinecolor": "#2a3f5f"
            },
            "baxis": {
             "endlinecolor": "#2a3f5f",
             "gridcolor": "white",
             "linecolor": "white",
             "minorgridcolor": "white",
             "startlinecolor": "#2a3f5f"
            },
            "type": "carpet"
           }
          ],
          "choropleth": [
           {
            "colorbar": {
             "outlinewidth": 0,
             "ticks": ""
            },
            "type": "choropleth"
           }
          ],
          "contour": [
           {
            "colorbar": {
             "outlinewidth": 0,
             "ticks": ""
            },
            "colorscale": [
             [
              0,
              "#0d0887"
             ],
             [
              0.1111111111111111,
              "#46039f"
             ],
             [
              0.2222222222222222,
              "#7201a8"
             ],
             [
              0.3333333333333333,
              "#9c179e"
             ],
             [
              0.4444444444444444,
              "#bd3786"
             ],
             [
              0.5555555555555556,
              "#d8576b"
             ],
             [
              0.6666666666666666,
              "#ed7953"
             ],
             [
              0.7777777777777778,
              "#fb9f3a"
             ],
             [
              0.8888888888888888,
              "#fdca26"
             ],
             [
              1,
              "#f0f921"
             ]
            ],
            "type": "contour"
           }
          ],
          "contourcarpet": [
           {
            "colorbar": {
             "outlinewidth": 0,
             "ticks": ""
            },
            "type": "contourcarpet"
           }
          ],
          "heatmap": [
           {
            "colorbar": {
             "outlinewidth": 0,
             "ticks": ""
            },
            "colorscale": [
             [
              0,
              "#0d0887"
             ],
             [
              0.1111111111111111,
              "#46039f"
             ],
             [
              0.2222222222222222,
              "#7201a8"
             ],
             [
              0.3333333333333333,
              "#9c179e"
             ],
             [
              0.4444444444444444,
              "#bd3786"
             ],
             [
              0.5555555555555556,
              "#d8576b"
             ],
             [
              0.6666666666666666,
              "#ed7953"
             ],
             [
              0.7777777777777778,
              "#fb9f3a"
             ],
             [
              0.8888888888888888,
              "#fdca26"
             ],
             [
              1,
              "#f0f921"
             ]
            ],
            "type": "heatmap"
           }
          ],
          "histogram": [
           {
            "marker": {
             "pattern": {
              "fillmode": "overlay",
              "size": 10,
              "solidity": 0.2
             }
            },
            "type": "histogram"
           }
          ],
          "histogram2d": [
           {
            "colorbar": {
             "outlinewidth": 0,
             "ticks": ""
            },
            "colorscale": [
             [
              0,
              "#0d0887"
             ],
             [
              0.1111111111111111,
              "#46039f"
             ],
             [
              0.2222222222222222,
              "#7201a8"
             ],
             [
              0.3333333333333333,
              "#9c179e"
             ],
             [
              0.4444444444444444,
              "#bd3786"
             ],
             [
              0.5555555555555556,
              "#d8576b"
             ],
             [
              0.6666666666666666,
              "#ed7953"
             ],
             [
              0.7777777777777778,
              "#fb9f3a"
             ],
             [
              0.8888888888888888,
              "#fdca26"
             ],
             [
              1,
              "#f0f921"
             ]
            ],
            "type": "histogram2d"
           }
          ],
          "histogram2dcontour": [
           {
            "colorbar": {
             "outlinewidth": 0,
             "ticks": ""
            },
            "colorscale": [
             [
              0,
              "#0d0887"
             ],
             [
              0.1111111111111111,
              "#46039f"
             ],
             [
              0.2222222222222222,
              "#7201a8"
             ],
             [
              0.3333333333333333,
              "#9c179e"
             ],
             [
              0.4444444444444444,
              "#bd3786"
             ],
             [
              0.5555555555555556,
              "#d8576b"
             ],
             [
              0.6666666666666666,
              "#ed7953"
             ],
             [
              0.7777777777777778,
              "#fb9f3a"
             ],
             [
              0.8888888888888888,
              "#fdca26"
             ],
             [
              1,
              "#f0f921"
             ]
            ],
            "type": "histogram2dcontour"
           }
          ],
          "mesh3d": [
           {
            "colorbar": {
             "outlinewidth": 0,
             "ticks": ""
            },
            "type": "mesh3d"
           }
          ],
          "parcoords": [
           {
            "line": {
             "colorbar": {
              "outlinewidth": 0,
              "ticks": ""
             }
            },
            "type": "parcoords"
           }
          ],
          "pie": [
           {
            "automargin": true,
            "type": "pie"
           }
          ],
          "scatter": [
           {
            "fillpattern": {
             "fillmode": "overlay",
             "size": 10,
             "solidity": 0.2
            },
            "type": "scatter"
           }
          ],
          "scatter3d": [
           {
            "line": {
             "colorbar": {
              "outlinewidth": 0,
              "ticks": ""
             }
            },
            "marker": {
             "colorbar": {
              "outlinewidth": 0,
              "ticks": ""
             }
            },
            "type": "scatter3d"
           }
          ],
          "scattercarpet": [
           {
            "marker": {
             "colorbar": {
              "outlinewidth": 0,
              "ticks": ""
             }
            },
            "type": "scattercarpet"
           }
          ],
          "scattergeo": [
           {
            "marker": {
             "colorbar": {
              "outlinewidth": 0,
              "ticks": ""
             }
            },
            "type": "scattergeo"
           }
          ],
          "scattergl": [
           {
            "marker": {
             "colorbar": {
              "outlinewidth": 0,
              "ticks": ""
             }
            },
            "type": "scattergl"
           }
          ],
          "scattermap": [
           {
            "marker": {
             "colorbar": {
              "outlinewidth": 0,
              "ticks": ""
             }
            },
            "type": "scattermap"
           }
          ],
          "scattermapbox": [
           {
            "marker": {
             "colorbar": {
              "outlinewidth": 0,
              "ticks": ""
             }
            },
            "type": "scattermapbox"
           }
          ],
          "scatterpolar": [
           {
            "marker": {
             "colorbar": {
              "outlinewidth": 0,
              "ticks": ""
             }
            },
            "type": "scatterpolar"
           }
          ],
          "scatterpolargl": [
           {
            "marker": {
             "colorbar": {
              "outlinewidth": 0,
              "ticks": ""
             }
            },
            "type": "scatterpolargl"
           }
          ],
          "scatterternary": [
           {
            "marker": {
             "colorbar": {
              "outlinewidth": 0,
              "ticks": ""
             }
            },
            "type": "scatterternary"
           }
          ],
          "surface": [
           {
            "colorbar": {
             "outlinewidth": 0,
             "ticks": ""
            },
            "colorscale": [
             [
              0,
              "#0d0887"
             ],
             [
              0.1111111111111111,
              "#46039f"
             ],
             [
              0.2222222222222222,
              "#7201a8"
             ],
             [
              0.3333333333333333,
              "#9c179e"
             ],
             [
              0.4444444444444444,
              "#bd3786"
             ],
             [
              0.5555555555555556,
              "#d8576b"
             ],
             [
              0.6666666666666666,
              "#ed7953"
             ],
             [
              0.7777777777777778,
              "#fb9f3a"
             ],
             [
              0.8888888888888888,
              "#fdca26"
             ],
             [
              1,
              "#f0f921"
             ]
            ],
            "type": "surface"
           }
          ],
          "table": [
           {
            "cells": {
             "fill": {
              "color": "#EBF0F8"
             },
             "line": {
              "color": "white"
             }
            },
            "header": {
             "fill": {
              "color": "#C8D4E3"
             },
             "line": {
              "color": "white"
             }
            },
            "type": "table"
           }
          ]
         },
         "layout": {
          "annotationdefaults": {
           "arrowcolor": "#2a3f5f",
           "arrowhead": 0,
           "arrowwidth": 1
          },
          "autotypenumbers": "strict",
          "coloraxis": {
           "colorbar": {
            "outlinewidth": 0,
            "ticks": ""
           }
          },
          "colorscale": {
           "diverging": [
            [
             0,
             "#8e0152"
            ],
            [
             0.1,
             "#c51b7d"
            ],
            [
             0.2,
             "#de77ae"
            ],
            [
             0.3,
             "#f1b6da"
            ],
            [
             0.4,
             "#fde0ef"
            ],
            [
             0.5,
             "#f7f7f7"
            ],
            [
             0.6,
             "#e6f5d0"
            ],
            [
             0.7,
             "#b8e186"
            ],
            [
             0.8,
             "#7fbc41"
            ],
            [
             0.9,
             "#4d9221"
            ],
            [
             1,
             "#276419"
            ]
           ],
           "sequential": [
            [
             0,
             "#0d0887"
            ],
            [
             0.1111111111111111,
             "#46039f"
            ],
            [
             0.2222222222222222,
             "#7201a8"
            ],
            [
             0.3333333333333333,
             "#9c179e"
            ],
            [
             0.4444444444444444,
             "#bd3786"
            ],
            [
             0.5555555555555556,
             "#d8576b"
            ],
            [
             0.6666666666666666,
             "#ed7953"
            ],
            [
             0.7777777777777778,
             "#fb9f3a"
            ],
            [
             0.8888888888888888,
             "#fdca26"
            ],
            [
             1,
             "#f0f921"
            ]
           ],
           "sequentialminus": [
            [
             0,
             "#0d0887"
            ],
            [
             0.1111111111111111,
             "#46039f"
            ],
            [
             0.2222222222222222,
             "#7201a8"
            ],
            [
             0.3333333333333333,
             "#9c179e"
            ],
            [
             0.4444444444444444,
             "#bd3786"
            ],
            [
             0.5555555555555556,
             "#d8576b"
            ],
            [
             0.6666666666666666,
             "#ed7953"
            ],
            [
             0.7777777777777778,
             "#fb9f3a"
            ],
            [
             0.8888888888888888,
             "#fdca26"
            ],
            [
             1,
             "#f0f921"
            ]
           ]
          },
          "colorway": [
           "#636efa",
           "#EF553B",
           "#00cc96",
           "#ab63fa",
           "#FFA15A",
           "#19d3f3",
           "#FF6692",
           "#B6E880",
           "#FF97FF",
           "#FECB52"
          ],
          "font": {
           "color": "#2a3f5f"
          },
          "geo": {
           "bgcolor": "white",
           "lakecolor": "white",
           "landcolor": "#E5ECF6",
           "showlakes": true,
           "showland": true,
           "subunitcolor": "white"
          },
          "hoverlabel": {
           "align": "left"
          },
          "hovermode": "closest",
          "mapbox": {
           "style": "light"
          },
          "paper_bgcolor": "white",
          "plot_bgcolor": "#E5ECF6",
          "polar": {
           "angularaxis": {
            "gridcolor": "white",
            "linecolor": "white",
            "ticks": ""
           },
           "bgcolor": "#E5ECF6",
           "radialaxis": {
            "gridcolor": "white",
            "linecolor": "white",
            "ticks": ""
           }
          },
          "scene": {
           "xaxis": {
            "backgroundcolor": "#E5ECF6",
            "gridcolor": "white",
            "gridwidth": 2,
            "linecolor": "white",
            "showbackground": true,
            "ticks": "",
            "zerolinecolor": "white"
           },
           "yaxis": {
            "backgroundcolor": "#E5ECF6",
            "gridcolor": "white",
            "gridwidth": 2,
            "linecolor": "white",
            "showbackground": true,
            "ticks": "",
            "zerolinecolor": "white"
           },
           "zaxis": {
            "backgroundcolor": "#E5ECF6",
            "gridcolor": "white",
            "gridwidth": 2,
            "linecolor": "white",
            "showbackground": true,
            "ticks": "",
            "zerolinecolor": "white"
           }
          },
          "shapedefaults": {
           "line": {
            "color": "#2a3f5f"
           }
          },
          "ternary": {
           "aaxis": {
            "gridcolor": "white",
            "linecolor": "white",
            "ticks": ""
           },
           "baxis": {
            "gridcolor": "white",
            "linecolor": "white",
            "ticks": ""
           },
           "bgcolor": "#E5ECF6",
           "caxis": {
            "gridcolor": "white",
            "linecolor": "white",
            "ticks": ""
           }
          },
          "title": {
           "x": 0.05
          },
          "xaxis": {
           "automargin": true,
           "gridcolor": "white",
           "linecolor": "white",
           "ticks": "",
           "title": {
            "standoff": 15
           },
           "zerolinecolor": "white",
           "zerolinewidth": 2
          },
          "yaxis": {
           "automargin": true,
           "gridcolor": "white",
           "linecolor": "white",
           "ticks": "",
           "title": {
            "standoff": 15
           },
           "zerolinecolor": "white",
           "zerolinewidth": 2
          }
         }
        },
        "title": {
         "text": "Сравнение методов кластеризации"
        },
        "xaxis": {
         "anchor": "y",
         "domain": [
          0,
          0.45
         ]
        },
        "xaxis2": {
         "anchor": "y2",
         "domain": [
          0.55,
          1
         ]
        },
        "yaxis": {
         "anchor": "x",
         "domain": [
          0,
          1
         ]
        },
        "yaxis2": {
         "anchor": "x2",
         "domain": [
          0,
          1
         ]
        }
       }
      }
     },
     "metadata": {},
     "output_type": "display_data"
    },
    {
     "name": "stdout",
     "output_type": "stream",
     "text": [
      "\n",
      "Результаты кластеризации:\n",
      "kmeans: silhouette score = 0.550\n",
      "dbscan: silhouette score = 0.623\n"
     ]
    }
   ],
   "source": [
    "# Продвинутая кластеризация с использованием различных алгоритмов\n",
    "def advanced_clustering(data, coordinates):\n",
    "    results = {}\n",
    "    \n",
    "    # KMeans\n",
    "    kmeans = KMeans(n_clusters=50, random_state=42)\n",
    "    kmeans_labels = kmeans.fit_predict(coordinates)\n",
    "    results['kmeans'] = {\n",
    "        'labels': kmeans_labels,\n",
    "        'silhouette': silhouette_score(coordinates, kmeans_labels)\n",
    "    }\n",
    "    \n",
    "    # DBSCAN\n",
    "    dbscan = DBSCAN(eps=0.3, min_samples=5)\n",
    "    dbscan_labels = dbscan.fit_predict(coordinates)\n",
    "    if len(np.unique(dbscan_labels)) > 1:  # Проверяем, что есть больше одного кластера\n",
    "        results['dbscan'] = {\n",
    "            'labels': dbscan_labels,\n",
    "            'silhouette': silhouette_score(coordinates, dbscan_labels)\n",
    "        }\n",
    "    \n",
    "    # Визуализация результатов\n",
    "    fig = make_subplots(rows=1, cols=2,\n",
    "                        subplot_titles=('KMeans кластеризация',\n",
    "                                      'DBSCAN кластеризация'))\n",
    "    \n",
    "    # KMeans plot\n",
    "    fig.add_trace(\n",
    "        go.Scatter(x=data['lon'], y=data['lat'],\n",
    "                  mode='markers',\n",
    "                  marker=dict(color=kmeans_labels,\n",
    "                            colorscale='Viridis'),\n",
    "                  name='KMeans'),\n",
    "        row=1, col=1\n",
    "    )\n",
    "    \n",
    "    # DBSCAN plot\n",
    "    fig.add_trace(\n",
    "        go.Scatter(x=data['lon'], y=data['lat'],\n",
    "                  mode='markers',\n",
    "                  marker=dict(color=dbscan_labels,\n",
    "                            colorscale='Viridis'),\n",
    "                  name='DBSCAN'),\n",
    "        row=1, col=2\n",
    "    )\n",
    "    \n",
    "    fig.update_layout(height=500, title_text=\"Сравнение методов кластеризации\")\n",
    "    fig.show()\n",
    "    \n",
    "    return results\n",
    "\n",
    "# Подготовка данных\n",
    "def prepare_data_for_clustering(df):\n",
    "    clustering_data = df[['lat', 'lon', 'total_price', 'price_per_meter']].copy()\n",
    "    clustering_data = clustering_data.dropna(subset=['lat', 'lon'])\n",
    "    \n",
    "    scaler = RobustScaler()  # Используем RobustScaler для лучшей устойчивости к выбросам\n",
    "    coordinates = scaler.fit_transform(clustering_data[['lat', 'lon']])\n",
    "    \n",
    "    return clustering_data, coordinates, scaler\n",
    "\n",
    "# Выполняем кластеризацию\n",
    "rent_clustering_data, rent_coordinates, rent_scaler = prepare_data_for_clustering(rent_data)\n",
    "rent_clustering_results = advanced_clustering(rent_clustering_data, rent_coordinates)\n",
    "\n",
    "print('\\nРезультаты кластеризации:')\n",
    "for method, results in rent_clustering_results.items():\n",
    "    print(f'{method}: silhouette score = {results[\"silhouette\"]:.3f}')"
   ]
  },
  {
   "cell_type": "code",
   "execution_count": 14,
   "id": "8d764fbc",
   "metadata": {},
   "outputs": [
    {
     "ename": "NameError",
     "evalue": "name 'sale_clustering_data' is not defined",
     "output_type": "error",
     "traceback": [
      "\u001b[1;31m---------------------------------------------------------------------------\u001b[0m",
      "\u001b[1;31mNameError\u001b[0m                                 Traceback (most recent call last)",
      "Cell \u001b[1;32mIn[14], line 89\u001b[0m\n\u001b[0;32m     85\u001b[0m     \u001b[38;5;28;01mreturn\u001b[39;00m sale_data[[\u001b[38;5;124m'\u001b[39m\u001b[38;5;124mtotal_price\u001b[39m\u001b[38;5;124m'\u001b[39m, \u001b[38;5;124m'\u001b[39m\u001b[38;5;124mroi\u001b[39m\u001b[38;5;124m'\u001b[39m, \u001b[38;5;124m'\u001b[39m\u001b[38;5;124mrisk_score\u001b[39m\u001b[38;5;124m'\u001b[39m]]\n\u001b[0;32m     87\u001b[0m \u001b[38;5;66;03m# Анализируем инвестиционные возможности\u001b[39;00m\n\u001b[0;32m     88\u001b[0m investment_analysis \u001b[38;5;241m=\u001b[39m analyze_investment_opportunities(\n\u001b[1;32m---> 89\u001b[0m     \u001b[43msale_clustering_data\u001b[49m,\n\u001b[0;32m     90\u001b[0m     rent_clustering_data,\n\u001b[0;32m     91\u001b[0m     rent_clustering_results[\u001b[38;5;124m'\u001b[39m\u001b[38;5;124mkmeans\u001b[39m\u001b[38;5;124m'\u001b[39m][\u001b[38;5;124m'\u001b[39m\u001b[38;5;124mlabels\u001b[39m\u001b[38;5;124m'\u001b[39m]\n\u001b[0;32m     92\u001b[0m )\n\u001b[0;32m     94\u001b[0m \u001b[38;5;66;03m# Выводим топ-10 наиболее привлекательных объектов\u001b[39;00m\n\u001b[0;32m     95\u001b[0m \u001b[38;5;28mprint\u001b[39m(\u001b[38;5;124m'\u001b[39m\u001b[38;5;130;01m\\n\u001b[39;00m\u001b[38;5;124mТоп-10 объектов для инвестирования:\u001b[39m\u001b[38;5;124m'\u001b[39m)\n",
      "\u001b[1;31mNameError\u001b[0m: name 'sale_clustering_data' is not defined"
     ]
    }
   ],
   "source": [
    "# Расширенный анализ инвестиционных возможностей\n",
    "def analyze_investment_opportunities(sale_data, rent_data, kmeans_labels):\n",
    "    # Рассчитываем метрики для каждого кластера\n",
    "    cluster_metrics = pd.DataFrame()\n",
    "    \n",
    "    for cluster in np.unique(kmeans_labels):\n",
    "        cluster_rent = rent_data[kmeans_labels == cluster]\n",
    "        \n",
    "        metrics = {\n",
    "            'avg_rent': cluster_rent['total_price'].mean(),\n",
    "            'median_rent': cluster_rent['total_price'].median(),\n",
    "            'rent_volatility': cluster_rent['total_price'].std() / cluster_rent['total_price'].mean(),\n",
    "            'num_properties': len(cluster_rent)\n",
    "        }\n",
    "        \n",
    "        cluster_metrics = cluster_metrics.append(\n",
    "            pd.Series(metrics, name=cluster)\n",
    "        )\n",
    "    \n",
    "    # Находим перспективные объекты\n",
    "    def calculate_roi(row, cluster_metrics):\n",
    "        cluster = kmeans_labels[row.name]\n",
    "        if cluster in cluster_metrics.index:\n",
    "            annual_rent = cluster_metrics.loc[cluster, 'median_rent'] * 12\n",
    "            roi = (annual_rent - row['total_price'] * 0.05) / row['total_price'] * 100\n",
    "            return roi\n",
    "        return np.nan\n",
    "    \n",
    "    sale_data['roi'] = sale_data.apply(\n",
    "        lambda x: calculate_roi(x, cluster_metrics), axis=1\n",
    "    )\n",
    "    \n",
    "    # Оцениваем риски\n",
    "    sale_data['risk_score'] = sale_data.apply(\n",
    "        lambda x: cluster_metrics.loc[kmeans_labels[x.name], 'rent_volatility']\n",
    "        if kmeans_labels[x.name] in cluster_metrics.index else np.nan,\n",
    "        axis=1\n",
    "    )\n",
    "    \n",
    "    # Визуализация результатов\n",
    "    fig = make_subplots(rows=2, cols=2,\n",
    "                        subplot_titles=('ROI vs Риск',\n",
    "                                      'Распределение ROI',\n",
    "                                      'Распределение рисков',\n",
    "                                      'Топ кластеры по ROI'))\n",
    "    \n",
    "    # ROI vs Риск\n",
    "    fig.add_trace(\n",
    "        go.Scatter(x=sale_data['risk_score'],\n",
    "                  y=sale_data['roi'],\n",
    "                  mode='markers',\n",
    "                  marker=dict(color=sale_data['total_price'],\n",
    "                            colorscale='Viridis',\n",
    "                            showscale=True),\n",
    "                  name='Объекты'),\n",
    "        row=1, col=1\n",
    "    )\n",
    "    \n",
    "    # Распределение ROI\n",
    "    fig.add_trace(\n",
    "        go.Histogram(x=sale_data['roi'],\n",
    "                    name='ROI'),\n",
    "        row=1, col=2\n",
    "    )\n",
    "    \n",
    "    # Распределение рисков\n",
    "    fig.add_trace(\n",
    "        go.Histogram(x=sale_data['risk_score'],\n",
    "                    name='Риски'),\n",
    "        row=2, col=1\n",
    "    )\n",
    "    \n",
    "    # Топ кластеры по ROI\n",
    "    top_clusters = sale_data.groupby(kmeans_labels)['roi'].mean().nlargest(10)\n",
    "    fig.add_trace(\n",
    "        go.Bar(x=top_clusters.index,\n",
    "               y=top_clusters.values,\n",
    "               name='Топ кластеры'),\n",
    "        row=2, col=2\n",
    "    )\n",
    "    \n",
    "    fig.update_layout(height=800, showlegend=False)\n",
    "    fig.show()\n",
    "    \n",
    "    return sale_data[['total_price', 'roi', 'risk_score']]\n",
    "\n",
    "# Анализируем инвестиционные возможности\n",
    "investment_analysis = analyze_investment_opportunities(\n",
    "    sale_clustering_data,\n",
    "    rent_clustering_data,\n",
    "    rent_clustering_results['kmeans']['labels']\n",
    ")\n",
    "\n",
    "# Выводим топ-10 наиболее привлекательных объектов\n",
    "print('\\nТоп-10 объектов для инвестирования:')\n",
    "display(investment_analysis.sort_values('roi', ascending=False).head(10))"
   ]
  },
  {
   "cell_type": "markdown",
   "id": "bdc52966",
   "metadata": {},
   "source": [
    "## Рекомендации по инвестированию\n",
    "\n",
    "На основе проведенного анализа можно сделать следующие выводы:\n",
    "\n",
    "1. **Наиболее привлекательные районы:**\n",
    "   - Районы с высоким ROI и низким риском\n",
    "   - Районы с стабильным потоком арендаторов\n",
    "   - Районы с потенциалом роста цен\n",
    "\n",
    "2. **Критерии выбора объектов:**\n",
    "   - Соотношение цена/качество\n",
    "   - Потенциальный доход от аренды\n",
    "   - Риски и волатильность цен\n",
    "\n",
    "3. **Стратегии инвестирования:**\n",
    "   - Долгосрочная аренда\n",
    "   - Краткосрочная аренда\n",
    "   - Перепродажа после ремонта\n",
    "\n",
    "4. **Факторы риска:**\n",
    "   - Волатильность цен в районе\n",
    "   - Конкуренция\n",
    "   - Состояние объекта"
   ]
  }
 ],
 "metadata": {
  "kernelspec": {
   "display_name": ".venv",
   "language": "python",
   "name": "python3"
  },
  "language_info": {
   "codemirror_mode": {
    "name": "ipython",
    "version": 3
   },
   "file_extension": ".py",
   "mimetype": "text/x-python",
   "name": "python",
   "nbconvert_exporter": "python",
   "pygments_lexer": "ipython3",
   "version": "3.9.13"
  }
 },
 "nbformat": 4,
 "nbformat_minor": 5
}
